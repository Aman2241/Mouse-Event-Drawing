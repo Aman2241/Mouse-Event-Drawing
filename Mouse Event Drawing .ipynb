{
 "cells": [
  {
   "cell_type": "code",
   "execution_count": 1,
   "metadata": {},
   "outputs": [],
   "source": [
    "import cv2\n",
    "import numpy as np"
   ]
  },
  {
   "cell_type": "code",
   "execution_count": 2,
   "metadata": {},
   "outputs": [],
   "source": [
    "#create a black image and a window\n",
    "windowName='Drawing'\n",
    "img=np.zeros((512,512,3),np.uint8)\n",
    "cv2.namedWindow(windowName)\n",
    "\n",
    "#true if mouse is pressed\n",
    "drawing=False\n",
    "\n",
    "mode=True\n",
    "(ix,iy)=(-1,-1)\n",
    "\n",
    "#mouse callback function\n",
    "def draw_shape(event,x,y,flags,param):\n",
    "    global ix,iy,drawing,mode\n",
    "    if event==cv2.EVENT_LBUTTONDOWN:\n",
    "        drawing=True\n",
    "        (ix,iy)=x,y\n",
    "    elif event==cv2.EVENT_MOUSEMOVE:\n",
    "        if drawing==True:\n",
    "            if mode==True:\n",
    "                cv2.rectangle(img,(ix,iy),(x,y),(0,255,0),-1)\n",
    "            else:\n",
    "                cv2.circle(img,(x,y),5,(0,0,255),-1)\n",
    "    elif event==cv2.EVENT_LBUTTONUP:\n",
    "        drawing=False\n",
    "        if mode==True:\n",
    "            cv2.rectangle(img,(ix,iy),(x,y),(0,255,0),-1)\n",
    "            \n",
    "        else:\n",
    "            cv2.circle(img,(x,y),5,(0,0,255),-1)\n",
    "cv2.setMouseCallback(windowName,draw_shape)"
   ]
  },
  {
   "cell_type": "code",
   "execution_count": null,
   "metadata": {},
   "outputs": [],
   "source": [
    "  def main():\n",
    "        global mode\n",
    "        \n",
    "        while(True):\n",
    "            cv2.imshow(windowName,img)\n",
    "            \n",
    "            k=cv2.waitKey(1)\n",
    "            if k==ord('m') or k==ord('M'):\n",
    "                mode=not mode\n",
    "            elif k==27:\n",
    "                break\n",
    "            if cv2.waitKey(20) ==27:\n",
    "                break\n",
    "        cv2.destryAllWindows()\n",
    "    \n",
    "if __name__==\"__main__\":\n",
    "    main()"
   ]
  },
  {
   "cell_type": "code",
   "execution_count": null,
   "metadata": {},
   "outputs": [],
   "source": []
  }
 ],
 "metadata": {
  "kernelspec": {
   "display_name": "Python 3",
   "language": "python",
   "name": "python3"
  },
  "language_info": {
   "codemirror_mode": {
    "name": "ipython",
    "version": 3
   },
   "file_extension": ".py",
   "mimetype": "text/x-python",
   "name": "python",
   "nbconvert_exporter": "python",
   "pygments_lexer": "ipython3",
   "version": "3.6.5"
  }
 },
 "nbformat": 4,
 "nbformat_minor": 2
}
